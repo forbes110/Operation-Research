{
 "cells": [
  {
   "cell_type": "code",
   "execution_count": 1,
   "id": "577edc2c",
   "metadata": {},
   "outputs": [],
   "source": [
    "import requests\n",
    "import schedule\n",
    "import time\n",
    "import datetime\n",
    "from bs4 import BeautifulSoup"
   ]
  },
  {
   "cell_type": "code",
   "execution_count": 2,
   "id": "44a65cc0",
   "metadata": {},
   "outputs": [],
   "source": [
    "def youbikedata():\n",
    "    now = datetime.datetime.now()\n",
    "    file_name= str(now.date())+'_'+str(now.hour)\n",
    "    url = 'https://tcgbusfs.blob.core.windows.net/dotapp/youbike/v2/youbike_immediate.json'\n",
    "    r = requests.get(url)\n",
    "    open(f'./data/{file_name}', 'wb').write(r.content)\n",
    "    print(file_name)"
   ]
  },
  {
   "cell_type": "code",
   "execution_count": null,
   "id": "f5dca70f",
   "metadata": {
    "scrolled": true
   },
   "outputs": [
    {
     "name": "stdout",
     "output_type": "stream",
     "text": [
      "2022-06-04_6\n",
      "2022-06-04_7\n",
      "2022-06-04_8\n",
      "2022-06-04_9\n",
      "2022-06-04_10\n",
      "2022-06-04_11\n",
      "2022-06-04_12\n",
      "2022-06-04_13\n",
      "2022-06-04_14\n",
      "2022-06-04_15\n",
      "2022-06-04_16\n",
      "2022-06-04_17\n",
      "2022-06-04_18\n",
      "2022-06-04_19\n",
      "2022-06-04_20\n",
      "2022-06-04_21\n",
      "2022-06-04_22\n"
     ]
    }
   ],
   "source": [
    "schedule.every(1).hour.do(youbikedata)\n",
    "\n",
    "while True:\n",
    "    schedule.run_pending()\n",
    "    time.sleep(60)"
   ]
  },
  {
   "cell_type": "code",
   "execution_count": null,
   "id": "129f9fbf",
   "metadata": {},
   "outputs": [],
   "source": []
  }
 ],
 "metadata": {
  "kernelspec": {
   "display_name": "Python 3 (ipykernel)",
   "language": "python",
   "name": "python3"
  },
  "language_info": {
   "codemirror_mode": {
    "name": "ipython",
    "version": 3
   },
   "file_extension": ".py",
   "mimetype": "text/x-python",
   "name": "python",
   "nbconvert_exporter": "python",
   "pygments_lexer": "ipython3",
   "version": "3.9.7"
  }
 },
 "nbformat": 4,
 "nbformat_minor": 5
}
